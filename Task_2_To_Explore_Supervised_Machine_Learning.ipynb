{
  "nbformat": 4,
  "nbformat_minor": 0,
  "metadata": {
    "kernelspec": {
      "display_name": "Python 3",
      "language": "python",
      "name": "python3"
    },
    "language_info": {
      "codemirror_mode": {
        "name": "ipython",
        "version": 3
      },
      "file_extension": ".py",
      "mimetype": "text/x-python",
      "name": "python",
      "nbconvert_exporter": "python",
      "pygments_lexer": "ipython3",
      "version": "3.7.1"
    },
    "colab": {
      "name": "Task- 2 :- To Explore Supervised Machine Learning.ipynb",
      "provenance": [],
      "collapsed_sections": [],
      "include_colab_link": true
    }
  },
  "cells": [
    {
      "cell_type": "markdown",
      "metadata": {
        "id": "view-in-github",
        "colab_type": "text"
      },
      "source": [
        "<a href=\"https://colab.research.google.com/github/Sauravp123/The-Sparks-Foundation-Tasks/blob/master/Task_2_To_Explore_Supervised_Machine_Learning.ipynb\" target=\"_parent\"><img src=\"https://colab.research.google.com/assets/colab-badge.svg\" alt=\"Open In Colab\"/></a>"
      ]
    },
    {
      "cell_type": "markdown",
      "metadata": {
        "id": "geSQJWB6ZsdQ",
        "colab_type": "text"
      },
      "source": [
        "# The Sparks Foundation Task-2"
      ]
    },
    {
      "cell_type": "markdown",
      "metadata": {
        "id": "S0BerkevZsdV",
        "colab_type": "text"
      },
      "source": [
        " # TASK: 2 - To Explore Supervised Machine Learning"
      ]
    },
    {
      "cell_type": "markdown",
      "metadata": {
        "id": "EXTqfWxaZsdX",
        "colab_type": "text"
      },
      "source": [
        "### There are two types of supervised machine learning algorithms: Regression and classification. In this task we have applied linear regression on data to predict the percentage of marks that a student is expected to score based upon the number of hours they studied. This is a simple linear regression task as it involves just two variables."
      ]
    },
    {
      "cell_type": "code",
      "metadata": {
        "id": "FUSR5QglZsdY",
        "colab_type": "code",
        "colab": {}
      },
      "source": [
        "import pandas as pd\n",
        "import numpy as np  \n",
        "import seaborn as sns\n",
        "import matplotlib.pyplot as plt  \n",
        "%matplotlib inline\n",
        "from sklearn import metrics\n",
        "from sklearn.model_selection import train_test_split"
      ],
      "execution_count": null,
      "outputs": []
    },
    {
      "cell_type": "code",
      "metadata": {
        "id": "Z_3WtVbTZsdj",
        "colab_type": "code",
        "colab": {},
        "outputId": "eb9bf45a-7d05-4e65-84e0-4c06a8d77e96"
      },
      "source": [
        "# Reading the data from given link\n",
        "url= \"http://bit.ly/w-data\"\n",
        "data=pd.read_csv(url)\n",
        "print(\"Data Imported Successfully\")\n",
        "data.head(10)"
      ],
      "execution_count": null,
      "outputs": [
        {
          "output_type": "stream",
          "text": [
            "Data Imported Successfully\n"
          ],
          "name": "stdout"
        },
        {
          "output_type": "execute_result",
          "data": {
            "text/html": [
              "<div>\n",
              "<style scoped>\n",
              "    .dataframe tbody tr th:only-of-type {\n",
              "        vertical-align: middle;\n",
              "    }\n",
              "\n",
              "    .dataframe tbody tr th {\n",
              "        vertical-align: top;\n",
              "    }\n",
              "\n",
              "    .dataframe thead th {\n",
              "        text-align: right;\n",
              "    }\n",
              "</style>\n",
              "<table border=\"1\" class=\"dataframe\">\n",
              "  <thead>\n",
              "    <tr style=\"text-align: right;\">\n",
              "      <th></th>\n",
              "      <th>Hours</th>\n",
              "      <th>Scores</th>\n",
              "    </tr>\n",
              "  </thead>\n",
              "  <tbody>\n",
              "    <tr>\n",
              "      <th>0</th>\n",
              "      <td>2.5</td>\n",
              "      <td>21</td>\n",
              "    </tr>\n",
              "    <tr>\n",
              "      <th>1</th>\n",
              "      <td>5.1</td>\n",
              "      <td>47</td>\n",
              "    </tr>\n",
              "    <tr>\n",
              "      <th>2</th>\n",
              "      <td>3.2</td>\n",
              "      <td>27</td>\n",
              "    </tr>\n",
              "    <tr>\n",
              "      <th>3</th>\n",
              "      <td>8.5</td>\n",
              "      <td>75</td>\n",
              "    </tr>\n",
              "    <tr>\n",
              "      <th>4</th>\n",
              "      <td>3.5</td>\n",
              "      <td>30</td>\n",
              "    </tr>\n",
              "    <tr>\n",
              "      <th>5</th>\n",
              "      <td>1.5</td>\n",
              "      <td>20</td>\n",
              "    </tr>\n",
              "    <tr>\n",
              "      <th>6</th>\n",
              "      <td>9.2</td>\n",
              "      <td>88</td>\n",
              "    </tr>\n",
              "    <tr>\n",
              "      <th>7</th>\n",
              "      <td>5.5</td>\n",
              "      <td>60</td>\n",
              "    </tr>\n",
              "    <tr>\n",
              "      <th>8</th>\n",
              "      <td>8.3</td>\n",
              "      <td>81</td>\n",
              "    </tr>\n",
              "    <tr>\n",
              "      <th>9</th>\n",
              "      <td>2.7</td>\n",
              "      <td>25</td>\n",
              "    </tr>\n",
              "  </tbody>\n",
              "</table>\n",
              "</div>"
            ],
            "text/plain": [
              "   Hours  Scores\n",
              "0    2.5      21\n",
              "1    5.1      47\n",
              "2    3.2      27\n",
              "3    8.5      75\n",
              "4    3.5      30\n",
              "5    1.5      20\n",
              "6    9.2      88\n",
              "7    5.5      60\n",
              "8    8.3      81\n",
              "9    2.7      25"
            ]
          },
          "metadata": {
            "tags": []
          },
          "execution_count": 2
        }
      ]
    },
    {
      "cell_type": "code",
      "metadata": {
        "id": "6C8grq3zZsds",
        "colab_type": "code",
        "colab": {},
        "outputId": "a6591557-b400-4571-94e1-608a84f13b9f"
      },
      "source": [
        "# Let's Explore the data\n",
        "data.shape"
      ],
      "execution_count": null,
      "outputs": [
        {
          "output_type": "execute_result",
          "data": {
            "text/plain": [
              "(25, 2)"
            ]
          },
          "metadata": {
            "tags": []
          },
          "execution_count": 3
        }
      ]
    },
    {
      "cell_type": "code",
      "metadata": {
        "id": "ORfsOhLHZsdz",
        "colab_type": "code",
        "colab": {},
        "outputId": "f6d9c8eb-3764-4365-ed16-3fccf994e85c"
      },
      "source": [
        "data.describe()"
      ],
      "execution_count": null,
      "outputs": [
        {
          "output_type": "execute_result",
          "data": {
            "text/html": [
              "<div>\n",
              "<style scoped>\n",
              "    .dataframe tbody tr th:only-of-type {\n",
              "        vertical-align: middle;\n",
              "    }\n",
              "\n",
              "    .dataframe tbody tr th {\n",
              "        vertical-align: top;\n",
              "    }\n",
              "\n",
              "    .dataframe thead th {\n",
              "        text-align: right;\n",
              "    }\n",
              "</style>\n",
              "<table border=\"1\" class=\"dataframe\">\n",
              "  <thead>\n",
              "    <tr style=\"text-align: right;\">\n",
              "      <th></th>\n",
              "      <th>Hours</th>\n",
              "      <th>Scores</th>\n",
              "    </tr>\n",
              "  </thead>\n",
              "  <tbody>\n",
              "    <tr>\n",
              "      <th>count</th>\n",
              "      <td>25.000000</td>\n",
              "      <td>25.000000</td>\n",
              "    </tr>\n",
              "    <tr>\n",
              "      <th>mean</th>\n",
              "      <td>5.012000</td>\n",
              "      <td>51.480000</td>\n",
              "    </tr>\n",
              "    <tr>\n",
              "      <th>std</th>\n",
              "      <td>2.525094</td>\n",
              "      <td>25.286887</td>\n",
              "    </tr>\n",
              "    <tr>\n",
              "      <th>min</th>\n",
              "      <td>1.100000</td>\n",
              "      <td>17.000000</td>\n",
              "    </tr>\n",
              "    <tr>\n",
              "      <th>25%</th>\n",
              "      <td>2.700000</td>\n",
              "      <td>30.000000</td>\n",
              "    </tr>\n",
              "    <tr>\n",
              "      <th>50%</th>\n",
              "      <td>4.800000</td>\n",
              "      <td>47.000000</td>\n",
              "    </tr>\n",
              "    <tr>\n",
              "      <th>75%</th>\n",
              "      <td>7.400000</td>\n",
              "      <td>75.000000</td>\n",
              "    </tr>\n",
              "    <tr>\n",
              "      <th>max</th>\n",
              "      <td>9.200000</td>\n",
              "      <td>95.000000</td>\n",
              "    </tr>\n",
              "  </tbody>\n",
              "</table>\n",
              "</div>"
            ],
            "text/plain": [
              "           Hours     Scores\n",
              "count  25.000000  25.000000\n",
              "mean    5.012000  51.480000\n",
              "std     2.525094  25.286887\n",
              "min     1.100000  17.000000\n",
              "25%     2.700000  30.000000\n",
              "50%     4.800000  47.000000\n",
              "75%     7.400000  75.000000\n",
              "max     9.200000  95.000000"
            ]
          },
          "metadata": {
            "tags": []
          },
          "execution_count": 4
        }
      ]
    },
    {
      "cell_type": "code",
      "metadata": {
        "id": "ncKs8lLmZsd5",
        "colab_type": "code",
        "colab": {},
        "outputId": "cb6c0ffb-65af-4aa4-9d52-7313734e95fa"
      },
      "source": [
        "data.info()"
      ],
      "execution_count": null,
      "outputs": [
        {
          "output_type": "stream",
          "text": [
            "<class 'pandas.core.frame.DataFrame'>\n",
            "RangeIndex: 25 entries, 0 to 24\n",
            "Data columns (total 2 columns):\n",
            "Hours     25 non-null float64\n",
            "Scores    25 non-null int64\n",
            "dtypes: float64(1), int64(1)\n",
            "memory usage: 480.0 bytes\n"
          ],
          "name": "stdout"
        }
      ]
    },
    {
      "cell_type": "code",
      "metadata": {
        "id": "pFn5Fqu2ZseB",
        "colab_type": "code",
        "colab": {},
        "outputId": "76db7539-e518-4cab-dc9e-128009a66b21"
      },
      "source": [
        "data.isnull().sum()"
      ],
      "execution_count": null,
      "outputs": [
        {
          "output_type": "execute_result",
          "data": {
            "text/plain": [
              "Hours     0\n",
              "Scores    0\n",
              "dtype: int64"
            ]
          },
          "metadata": {
            "tags": []
          },
          "execution_count": 6
        }
      ]
    },
    {
      "cell_type": "markdown",
      "metadata": {
        "id": "80NG6TKjZseI",
        "colab_type": "text"
      },
      "source": [
        "### Let's plot our data points on 2-D Graph to eyeball our dataset and see if we can manually find any relationship between the data. We can create the plot with following script:-"
      ]
    },
    {
      "cell_type": "code",
      "metadata": {
        "id": "S5OGrhuYZseK",
        "colab_type": "code",
        "colab": {},
        "outputId": "4e22fd1b-b80c-4433-af75-36b280cbbee1"
      },
      "source": [
        "#Plotting the distribution of Scores\n",
        "from matplotlib import style\n",
        "data.plot(x='Hours', y='Scores', style='o') \n",
        "style.use('dark_background')\n",
        "plt.title('Hours of study vs Percentage Score')  \n",
        "plt.xlabel('Hours of Study')  \n",
        "plt.ylabel('Percentage Score')  \n",
        "plt.show()"
      ],
      "execution_count": null,
      "outputs": [
        {
          "output_type": "display_data",
          "data": {
            "image/png": "[encoded data removed]",
            "text/plain": [
              "<Figure size 432x288 with 1 Axes>"
            ]
          },
          "metadata": {
            "tags": []
          }
        }
      ]
    },
    {
      "cell_type": "markdown",
      "metadata": {
        "id": "Xu_734HqZseQ",
        "colab_type": "text"
      },
      "source": [
        "From the graph we can find the linear relation between the number of hours studied by the student and the percentage of score."
      ]
    },
    {
      "cell_type": "markdown",
      "metadata": {
        "id": "ld-We3B6ZseR",
        "colab_type": "text"
      },
      "source": [
        "## Preparing the data"
      ]
    },
    {
      "cell_type": "code",
      "metadata": {
        "id": "nLCHbZl6ZseS",
        "colab_type": "code",
        "colab": {}
      },
      "source": [
        "x = data.iloc[:, :-1].values  \n",
        "y = data.iloc[:, 1].values"
      ],
      "execution_count": null,
      "outputs": []
    },
    {
      "cell_type": "markdown",
      "metadata": {
        "id": "152sA1n7ZseX",
        "colab_type": "text"
      },
      "source": [
        "Now that we have our attributes and labels, the next step is to split this data into training and test sets. We'll do this by using Scikit-Learn's built-in train_test_split() method:"
      ]
    },
    {
      "cell_type": "code",
      "metadata": {
        "id": "wK6IJpESZseY",
        "colab_type": "code",
        "colab": {}
      },
      "source": [
        "from sklearn.model_selection import train_test_split\n",
        "\n",
        "# split into train and test set\n",
        "x_train,x_test,y_train,y_test=train_test_split(x,\n",
        "                                              y,\n",
        "                                              test_size=0.2,\n",
        "                                              random_state=0)"
      ],
      "execution_count": null,
      "outputs": []
    },
    {
      "cell_type": "markdown",
      "metadata": {
        "id": "H_G9JH5bZsee",
        "colab_type": "text"
      },
      "source": [
        "## Training the algorithm\n"
      ]
    },
    {
      "cell_type": "markdown",
      "metadata": {
        "id": "K-476m-dZsef",
        "colab_type": "text"
      },
      "source": [
        "After splitting up ofdata into training and test set we are going to train it."
      ]
    },
    {
      "cell_type": "code",
      "metadata": {
        "id": "C-DkkWXUZseg",
        "colab_type": "code",
        "colab": {},
        "outputId": "51f1ff65-c3ac-470a-bc5a-c96732a6b733"
      },
      "source": [
        "from sklearn.linear_model import LinearRegression  \n",
        "lr = LinearRegression()  \n",
        "lr.fit(x_train, y_train) \n",
        "\n",
        "print(\"Training is done.\")"
      ],
      "execution_count": null,
      "outputs": [
        {
          "output_type": "stream",
          "text": [
            "Training is done.\n"
          ],
          "name": "stdout"
        }
      ]
    },
    {
      "cell_type": "code",
      "metadata": {
        "id": "WO0x5_u-Zsel",
        "colab_type": "code",
        "colab": {}
      },
      "source": [
        "prediction=lr.predict(x_test)"
      ],
      "execution_count": null,
      "outputs": []
    },
    {
      "cell_type": "code",
      "metadata": {
        "id": "97uRLWkqZseq",
        "colab_type": "code",
        "colab": {},
        "outputId": "ba2513c2-1404-4023-ed63-a144dc10643c"
      },
      "source": [
        "plt.scatter(y_test,prediction)\n",
        "plt.plot(y_test,y_test,color=\"green\")\n",
        "plt.xlabel('Actual values')\n",
        "plt.ylabel('Predicted value')\n",
        "plt.title(\"Actual vs Predicted\")\n",
        "plt.show()"
      ],
      "execution_count": null,
      "outputs": [
        {
          "output_type": "display_data",
          "data": {
            "image/png": "[encoded data removed]",
            "text/plain": [
              "<Figure size 432x288 with 1 Axes>"
            ]
          },
          "metadata": {
            "tags": []
          }
        }
      ]
    },
    {
      "cell_type": "code",
      "metadata": {
        "id": "tK73e4z8Zsev",
        "colab_type": "code",
        "colab": {},
        "outputId": "3829d314-357b-4a55-8919-d9489daac456"
      },
      "source": [
        "plt.scatter(x_train,y_train,color=\"blue\")\n",
        "plt.plot(x_train,lr.predict(x_train),color=\"orange\")\n",
        "plt.xlabel('Hours')\n",
        "plt.ylabel('Percentage')\n",
        "plt.title(\"Training the dataset\")\n",
        "plt.show()"
      ],
      "execution_count": null,
      "outputs": [
        {
          "output_type": "display_data",
          "data": {
            "image/png": "[encoded data removed]",
            "text/plain": [
              "<Figure size 432x288 with 1 Axes>"
            ]
          },
          "metadata": {
            "tags": []
          }
        }
      ]
    },
    {
      "cell_type": "markdown",
      "metadata": {
        "id": "i6K4AO0bZse0",
        "colab_type": "text"
      },
      "source": [
        "## Making predictions"
      ]
    },
    {
      "cell_type": "markdown",
      "metadata": {
        "id": "LrMqNbjIZse1",
        "colab_type": "text"
      },
      "source": [
        "Now that we have trained our algorithm, it's time to make some predictions."
      ]
    },
    {
      "cell_type": "code",
      "metadata": {
        "id": "jyx8HwxKZse2",
        "colab_type": "code",
        "colab": {}
      },
      "source": [
        "y_pred = lr.predict(x_test)"
      ],
      "execution_count": null,
      "outputs": []
    },
    {
      "cell_type": "code",
      "metadata": {
        "id": "qDtb6gmhZse6",
        "colab_type": "code",
        "colab": {},
        "outputId": "0d371b54-de28-46b0-9130-60bfdedb8cd5"
      },
      "source": [
        "print(x_test)"
      ],
      "execution_count": null,
      "outputs": [
        {
          "output_type": "stream",
          "text": [
            "[[1.5]\n",
            " [3.2]\n",
            " [7.4]\n",
            " [2.5]\n",
            " [5.9]]\n"
          ],
          "name": "stdout"
        }
      ]
    },
    {
      "cell_type": "code",
      "metadata": {
        "id": "yXffvwuWZse_",
        "colab_type": "code",
        "colab": {},
        "outputId": "b765f0f1-da9e-484f-c4f1-1e9b03a97df6"
      },
      "source": [
        "# Comparing Actual vs Predicted\n",
        "df = pd.DataFrame({'Actual': y_test, 'Predicted': y_pred})  \n",
        "df"
      ],
      "execution_count": null,
      "outputs": [
        {
          "output_type": "execute_result",
          "data": {
            "text/html": [
              "<div>\n",
              "<style scoped>\n",
              "    .dataframe tbody tr th:only-of-type {\n",
              "        vertical-align: middle;\n",
              "    }\n",
              "\n",
              "    .dataframe tbody tr th {\n",
              "        vertical-align: top;\n",
              "    }\n",
              "\n",
              "    .dataframe thead th {\n",
              "        text-align: right;\n",
              "    }\n",
              "</style>\n",
              "<table border=\"1\" class=\"dataframe\">\n",
              "  <thead>\n",
              "    <tr style=\"text-align: right;\">\n",
              "      <th></th>\n",
              "      <th>Actual</th>\n",
              "      <th>Predicted</th>\n",
              "    </tr>\n",
              "  </thead>\n",
              "  <tbody>\n",
              "    <tr>\n",
              "      <th>0</th>\n",
              "      <td>20</td>\n",
              "      <td>16.884145</td>\n",
              "    </tr>\n",
              "    <tr>\n",
              "      <th>1</th>\n",
              "      <td>27</td>\n",
              "      <td>33.732261</td>\n",
              "    </tr>\n",
              "    <tr>\n",
              "      <th>2</th>\n",
              "      <td>69</td>\n",
              "      <td>75.357018</td>\n",
              "    </tr>\n",
              "    <tr>\n",
              "      <th>3</th>\n",
              "      <td>30</td>\n",
              "      <td>26.794801</td>\n",
              "    </tr>\n",
              "    <tr>\n",
              "      <th>4</th>\n",
              "      <td>62</td>\n",
              "      <td>60.491033</td>\n",
              "    </tr>\n",
              "  </tbody>\n",
              "</table>\n",
              "</div>"
            ],
            "text/plain": [
              "   Actual  Predicted\n",
              "0      20  16.884145\n",
              "1      27  33.732261\n",
              "2      69  75.357018\n",
              "3      30  26.794801\n",
              "4      62  60.491033"
            ]
          },
          "metadata": {
            "tags": []
          },
          "execution_count": 26
        }
      ]
    },
    {
      "cell_type": "markdown",
      "metadata": {
        "id": "G5neObcFZsfH",
        "colab_type": "text"
      },
      "source": [
        "## What will be predicted score if a student study for 9.25 hrs in a day?"
      ]
    },
    {
      "cell_type": "markdown",
      "metadata": {
        "id": "O8UfU7f9ZsfI",
        "colab_type": "text"
      },
      "source": [
        "## Prediction Of 9.25 Hrs"
      ]
    },
    {
      "cell_type": "code",
      "metadata": {
        "id": "H0pCOOxqZsfJ",
        "colab_type": "code",
        "colab": {},
        "outputId": "7c93478b-d8bf-4e9e-f43d-f8bb8e431263"
      },
      "source": [
        "# You can also test with your own data\n",
        "#hours = 9.25\n",
        "lr.predict([[9.25]])"
      ],
      "execution_count": null,
      "outputs": [
        {
          "output_type": "execute_result",
          "data": {
            "text/plain": [
              "array([93.69173249])"
            ]
          },
          "metadata": {
            "tags": []
          },
          "execution_count": 31
        }
      ]
    },
    {
      "cell_type": "markdown",
      "metadata": {
        "id": "2FYbK9TnZsfN",
        "colab_type": "text"
      },
      "source": [
        "## Evaluating the model"
      ]
    },
    {
      "cell_type": "code",
      "metadata": {
        "id": "Y4JzMGyCZsfO",
        "colab_type": "code",
        "colab": {}
      },
      "source": [
        "from sklearn import metrics"
      ],
      "execution_count": null,
      "outputs": []
    },
    {
      "cell_type": "code",
      "metadata": {
        "id": "MDCgStA3ZsfS",
        "colab_type": "code",
        "colab": {},
        "outputId": "63d8a424-c095-4fda-de93-d463301bf574"
      },
      "source": [
        "print('MAE:',metrics.mean_absolute_error(y_test,prediction))\n",
        "print('MSE:',metrics.mean_squared_error(y_test,prediction))\n",
        "print('RMSE:',np.sqrt(metrics.mean_squared_error(y_test,prediction)))"
      ],
      "execution_count": null,
      "outputs": [
        {
          "output_type": "stream",
          "text": [
            "MAE: 4.183859899002975\n",
            "MSE: 21.5987693072174\n",
            "RMSE: 4.6474476121003665\n"
          ],
          "name": "stdout"
        }
      ]
    }
  ]
}